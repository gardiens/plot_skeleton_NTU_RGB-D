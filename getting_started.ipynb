{
 "cells": [
  {
   "cell_type": "code",
   "execution_count": null,
   "metadata": {},
   "outputs": [],
   "source": [
    "%load_ext autoreload\n",
    "%autoreload 2"
   ]
  },
  {
   "cell_type": "code",
   "execution_count": null,
   "metadata": {},
   "outputs": [],
   "source": [
    "import os \n",
    "from plot_skeleton import * \n"
   ]
  },
  {
   "cell_type": "markdown",
   "metadata": {},
   "source": [
    "Path of the skeleton folder"
   ]
  },
  {
   "cell_type": "code",
   "execution_count": null,
   "metadata": {},
   "outputs": [],
   "source": [
    "root_path='.'\n",
    "data_path_skel=os.path.join(root_path,'data/') #The path of .skeleton folder NOT .NPY"
   ]
  },
  {
   "cell_type": "markdown",
   "metadata": {},
   "source": [
    "the skeleton (in .skeleton format, or .npy)"
   ]
  },
  {
   "cell_type": "code",
   "execution_count": null,
   "metadata": {},
   "outputs": [],
   "source": [
    "skeleton=\"S001C001P001R001A001.skeleton\"\n",
    "path_skeleton=os.path.join(data_path_skel,skeleton)\n",
    "\n",
    "print(path_skeleton)"
   ]
  },
  {
   "cell_type": "markdown",
   "metadata": {},
   "source": [
    "parameters of plot_skeleton"
   ]
  },
  {
   "cell_type": "code",
   "execution_count": null,
   "metadata": {},
   "outputs": [],
   "source": [
    "num_body=0\n",
    "# Check the number of body, if it is greater than 0 we outputs the skeleton num_body of the scene, else everything if num_body=-1\n",
    "save_name=\"example\"\n",
    "path_folder_save=\"./videos/\" # where we store the sample"
   ]
  },
  {
   "cell_type": "markdown",
   "metadata": {},
   "source": [
    "Plot the skeleton ( watch out it requires to download the ffmpeg encoder)"
   ]
  },
  {
   "cell_type": "code",
   "execution_count": null,
   "metadata": {},
   "outputs": [],
   "source": [
    "plot_skeleton(path_skeleton=path_skeleton,\n",
    "              save_name=save_name,\n",
    "              path_folder_save=path_folder_save,\n",
    "              num_body=num_body)"
   ]
  },
  {
   "cell_type": "markdown",
   "metadata": {},
   "source": [
    "If you only have the .npy sample"
   ]
  },
  {
   "cell_type": "code",
   "execution_count": null,
   "metadata": {},
   "outputs": [],
   "source": [
    "skeleton_npy=\"S001C001P001R001A001.skeleton.npy\"\n",
    "path_skeleton_npy=os.path.join(data_path_skel,skeleton_npy)\n",
    "save_name=\"TESTnpy\"\n",
    "plot_skeleton(path_skeleton=path_skeleton_npy,\n",
    "              save_name=save_name,\n",
    "              path_folder_save=path_folder_save,\n",
    "              num_body=num_body)"
   ]
  },
  {
   "cell_type": "markdown",
   "metadata": {},
   "source": [
    "the video should be displayed in the folder videos :) "
   ]
  },
  {
   "cell_type": "markdown",
   "metadata": {},
   "source": [
    "Have fun :)"
   ]
  }
 ],
 "metadata": {
  "kernelspec": {
   "display_name": "Python 3",
   "language": "python",
   "name": "python3"
  },
  "language_info": {
   "codemirror_mode": {
    "name": "ipython",
    "version": 3
   },
   "file_extension": ".py",
   "mimetype": "text/x-python",
   "name": "python",
   "nbconvert_exporter": "python",
   "pygments_lexer": "ipython3",
   "version": "3.9.7"
  },
  "orig_nbformat": 4
 },
 "nbformat": 4,
 "nbformat_minor": 2
}
